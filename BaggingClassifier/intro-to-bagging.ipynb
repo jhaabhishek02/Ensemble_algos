{
 "cells": [
  {
   "cell_type": "code",
   "execution_count": 1,
   "id": "41ac1b7f",
   "metadata": {
    "_cell_guid": "b1076dfc-b9ad-4769-8c92-a6c4dae69d19",
    "_uuid": "8f2839f25d086af736a60e9eeb907d3b93b6e0e5",
    "execution": {
     "iopub.execute_input": "2022-04-03T12:39:01.619473Z",
     "iopub.status.busy": "2022-04-03T12:39:01.618138Z",
     "iopub.status.idle": "2022-04-03T12:39:01.630292Z",
     "shell.execute_reply": "2022-04-03T12:39:01.630868Z",
     "shell.execute_reply.started": "2022-04-03T11:57:01.953347Z"
    },
    "papermill": {
     "duration": 0.041461,
     "end_time": "2022-04-03T12:39:01.631211",
     "exception": false,
     "start_time": "2022-04-03T12:39:01.589750",
     "status": "completed"
    },
    "tags": []
   },
   "outputs": [],
   "source": [
    "# This Python 3 environment comes with many helpful analytics libraries installed\n",
    "# It is defined by the kaggle/python Docker image: https://github.com/kaggle/docker-python\n",
    "# For example, here's several helpful packages to load\n",
    "\n",
    "import numpy as np # linear algebra\n",
    "import pandas as pd # data processing, CSV file I/O (e.g. pd.read_csv)\n",
    "\n",
    "# Input data files are available in the read-only \"../input/\" directory\n",
    "# For example, running this (by clicking run or pressing Shift+Enter) will list all files under the input directory\n",
    "\n",
    "import os\n",
    "for dirname, _, filenames in os.walk('/kaggle/input'):\n",
    "    for filename in filenames:\n",
    "        print(os.path.join(dirname, filename))\n",
    "\n",
    "# You can write up to 20GB to the current directory (/kaggle/working/) that gets preserved as output when you create a version using \"Save & Run All\" \n",
    "# You can also write temporary files to /kaggle/temp/, but they won't be saved outside of the current session"
   ]
  },
  {
   "cell_type": "markdown",
   "id": "4f48fc11",
   "metadata": {
    "papermill": {
     "duration": 0.021431,
     "end_time": "2022-04-03T12:39:01.675157",
     "exception": false,
     "start_time": "2022-04-03T12:39:01.653726",
     "status": "completed"
    },
    "tags": []
   },
   "source": [
    "**This is a working example for bagging classification problem on a  breast cancer toy dataset**"
   ]
  },
  {
   "cell_type": "code",
   "execution_count": 2,
   "id": "1f1464f3",
   "metadata": {
    "execution": {
     "iopub.execute_input": "2022-04-03T12:39:01.726337Z",
     "iopub.status.busy": "2022-04-03T12:39:01.725526Z",
     "iopub.status.idle": "2022-04-03T12:39:02.979488Z",
     "shell.execute_reply": "2022-04-03T12:39:02.980056Z",
     "shell.execute_reply.started": "2022-04-03T11:58:44.572111Z"
    },
    "papermill": {
     "duration": 1.281955,
     "end_time": "2022-04-03T12:39:02.980288",
     "exception": false,
     "start_time": "2022-04-03T12:39:01.698333",
     "status": "completed"
    },
    "tags": []
   },
   "outputs": [
    {
     "data": {
      "text/plain": [
       "array([[1.799e+01, 1.038e+01, 1.228e+02, ..., 2.654e-01, 4.601e-01,\n",
       "        1.189e-01],\n",
       "       [2.057e+01, 1.777e+01, 1.329e+02, ..., 1.860e-01, 2.750e-01,\n",
       "        8.902e-02],\n",
       "       [1.969e+01, 2.125e+01, 1.300e+02, ..., 2.430e-01, 3.613e-01,\n",
       "        8.758e-02],\n",
       "       ...,\n",
       "       [1.660e+01, 2.808e+01, 1.083e+02, ..., 1.418e-01, 2.218e-01,\n",
       "        7.820e-02],\n",
       "       [2.060e+01, 2.933e+01, 1.401e+02, ..., 2.650e-01, 4.087e-01,\n",
       "        1.240e-01],\n",
       "       [7.760e+00, 2.454e+01, 4.792e+01, ..., 0.000e+00, 2.871e-01,\n",
       "        7.039e-02]])"
      ]
     },
     "execution_count": 2,
     "metadata": {},
     "output_type": "execute_result"
    }
   ],
   "source": [
    "from sklearn.datasets import load_breast_cancer\n",
    "data = load_breast_cancer()\n",
    "data.data"
   ]
  },
  {
   "cell_type": "code",
   "execution_count": 3,
   "id": "5a93eb2f",
   "metadata": {
    "execution": {
     "iopub.execute_input": "2022-04-03T12:39:03.031686Z",
     "iopub.status.busy": "2022-04-03T12:39:03.030902Z",
     "iopub.status.idle": "2022-04-03T12:39:03.037890Z",
     "shell.execute_reply": "2022-04-03T12:39:03.037130Z",
     "shell.execute_reply.started": "2022-04-03T11:59:06.942634Z"
    },
    "papermill": {
     "duration": 0.03379,
     "end_time": "2022-04-03T12:39:03.038054",
     "exception": false,
     "start_time": "2022-04-03T12:39:03.004264",
     "status": "completed"
    },
    "tags": []
   },
   "outputs": [
    {
     "data": {
      "text/plain": [
       "(569,)"
      ]
     },
     "execution_count": 3,
     "metadata": {},
     "output_type": "execute_result"
    }
   ],
   "source": [
    "data.target.shape"
   ]
  },
  {
   "cell_type": "markdown",
   "id": "513b6aa0",
   "metadata": {
    "papermill": {
     "duration": 0.02344,
     "end_time": "2022-04-03T12:39:03.085178",
     "exception": false,
     "start_time": "2022-04-03T12:39:03.061738",
     "status": "completed"
    },
    "tags": []
   },
   "source": [
    "In bagging, a random sample of data in a training set is selected with replacement—meaning that the individual data points can be chosen more than once."
   ]
  },
  {
   "cell_type": "markdown",
   "id": "f471cf56",
   "metadata": {
    "papermill": {
     "duration": 0.024113,
     "end_time": "2022-04-03T12:39:03.132277",
     "exception": false,
     "start_time": "2022-04-03T12:39:03.108164",
     "status": "completed"
    },
    "tags": []
   },
   "source": [
    "In bagging, the same algoritm is trained on different versions of the same dataset which help it in reducing the bais resulting in a low bias low variance model"
   ]
  },
  {
   "cell_type": "markdown",
   "id": "3243d730",
   "metadata": {
    "papermill": {
     "duration": 0.022216,
     "end_time": "2022-04-03T12:39:03.178303",
     "exception": false,
     "start_time": "2022-04-03T12:39:03.156087",
     "status": "completed"
    },
    "tags": []
   },
   "source": [
    "in our case we are using decision trees for this problem.you can use any other algo if you want"
   ]
  },
  {
   "cell_type": "code",
   "execution_count": 4,
   "id": "2fe2a0a1",
   "metadata": {
    "execution": {
     "iopub.execute_input": "2022-04-03T12:39:03.232581Z",
     "iopub.status.busy": "2022-04-03T12:39:03.231608Z",
     "iopub.status.idle": "2022-04-03T12:39:03.505671Z",
     "shell.execute_reply": "2022-04-03T12:39:03.506517Z",
     "shell.execute_reply.started": "2022-04-03T12:04:01.125758Z"
    },
    "papermill": {
     "duration": 0.304339,
     "end_time": "2022-04-03T12:39:03.506778",
     "exception": false,
     "start_time": "2022-04-03T12:39:03.202439",
     "status": "completed"
    },
    "tags": []
   },
   "outputs": [],
   "source": [
    "from sklearn.model_selection import train_test_split\n",
    "from sklearn.tree import DecisionTreeClassifier\n",
    "from sklearn.ensemble import BaggingClassifier\n",
    "from sklearn.metrics import accuracy_score"
   ]
  },
  {
   "cell_type": "code",
   "execution_count": 5,
   "id": "9879e39b",
   "metadata": {
    "execution": {
     "iopub.execute_input": "2022-04-03T12:39:03.583359Z",
     "iopub.status.busy": "2022-04-03T12:39:03.582250Z",
     "iopub.status.idle": "2022-04-03T12:39:03.584888Z",
     "shell.execute_reply": "2022-04-03T12:39:03.584081Z",
     "shell.execute_reply.started": "2022-04-03T12:08:52.829912Z"
    },
    "papermill": {
     "duration": 0.044601,
     "end_time": "2022-04-03T12:39:03.585089",
     "exception": false,
     "start_time": "2022-04-03T12:39:03.540488",
     "status": "completed"
    },
    "tags": []
   },
   "outputs": [],
   "source": [
    "X_train,X_test,y_train,y_test = train_test_split(data.data,data.target,test_size = 0.2,random_state=1)"
   ]
  },
  {
   "cell_type": "code",
   "execution_count": 6,
   "id": "98fa53ef",
   "metadata": {
    "execution": {
     "iopub.execute_input": "2022-04-03T12:39:03.652163Z",
     "iopub.status.busy": "2022-04-03T12:39:03.651242Z",
     "iopub.status.idle": "2022-04-03T12:39:03.654725Z",
     "shell.execute_reply": "2022-04-03T12:39:03.655272Z",
     "shell.execute_reply.started": "2022-04-03T12:08:56.639256Z"
    },
    "papermill": {
     "duration": 0.036037,
     "end_time": "2022-04-03T12:39:03.655468",
     "exception": false,
     "start_time": "2022-04-03T12:39:03.619431",
     "status": "completed"
    },
    "tags": []
   },
   "outputs": [
    {
     "data": {
      "text/plain": [
       "(455, 30)"
      ]
     },
     "execution_count": 6,
     "metadata": {},
     "output_type": "execute_result"
    }
   ],
   "source": [
    "X_train.shape"
   ]
  },
  {
   "cell_type": "code",
   "execution_count": 7,
   "id": "e17645f3",
   "metadata": {
    "execution": {
     "iopub.execute_input": "2022-04-03T12:39:03.708077Z",
     "iopub.status.busy": "2022-04-03T12:39:03.707049Z",
     "iopub.status.idle": "2022-04-03T12:39:03.721974Z",
     "shell.execute_reply": "2022-04-03T12:39:03.722815Z",
     "shell.execute_reply.started": "2022-04-03T12:08:58.939484Z"
    },
    "papermill": {
     "duration": 0.042599,
     "end_time": "2022-04-03T12:39:03.723095",
     "exception": false,
     "start_time": "2022-04-03T12:39:03.680496",
     "status": "completed"
    },
    "tags": []
   },
   "outputs": [
    {
     "data": {
      "text/plain": [
       "(455,)"
      ]
     },
     "execution_count": 7,
     "metadata": {},
     "output_type": "execute_result"
    }
   ],
   "source": [
    "y_train.shape"
   ]
  },
  {
   "cell_type": "markdown",
   "id": "32150b6b",
   "metadata": {
    "papermill": {
     "duration": 0.023015,
     "end_time": "2022-04-03T12:39:03.771211",
     "exception": false,
     "start_time": "2022-04-03T12:39:03.748196",
     "status": "completed"
    },
    "tags": []
   },
   "source": [
    "**we are getting 93% accuracy which is quite good for a DecisionTree model**"
   ]
  },
  {
   "cell_type": "code",
   "execution_count": 8,
   "id": "c9164b5f",
   "metadata": {
    "execution": {
     "iopub.execute_input": "2022-04-03T12:39:03.833330Z",
     "iopub.status.busy": "2022-04-03T12:39:03.832589Z",
     "iopub.status.idle": "2022-04-03T12:39:03.848985Z",
     "shell.execute_reply": "2022-04-03T12:39:03.848424Z",
     "shell.execute_reply.started": "2022-04-03T12:11:32.327723Z"
    },
    "papermill": {
     "duration": 0.050007,
     "end_time": "2022-04-03T12:39:03.849140",
     "exception": false,
     "start_time": "2022-04-03T12:39:03.799133",
     "status": "completed"
    },
    "tags": []
   },
   "outputs": [
    {
     "data": {
      "text/plain": [
       "0.9473684210526315"
      ]
     },
     "execution_count": 8,
     "metadata": {},
     "output_type": "execute_result"
    }
   ],
   "source": [
    "dt = DecisionTreeClassifier()\n",
    "dt.fit(X_train,y_train)\n",
    "y_pred = dt.predict(X_test)\n",
    "result = accuracy_score(y_test,y_pred)\n",
    "result"
   ]
  },
  {
   "cell_type": "markdown",
   "id": "40b04b8e",
   "metadata": {
    "papermill": {
     "duration": 0.023075,
     "end_time": "2022-04-03T12:39:03.896257",
     "exception": false,
     "start_time": "2022-04-03T12:39:03.873182",
     "status": "completed"
    },
    "tags": []
   },
   "source": [
    "creating an instance for the bagging model"
   ]
  },
  {
   "cell_type": "code",
   "execution_count": 9,
   "id": "b2638001",
   "metadata": {
    "execution": {
     "iopub.execute_input": "2022-04-03T12:39:03.947168Z",
     "iopub.status.busy": "2022-04-03T12:39:03.946494Z",
     "iopub.status.idle": "2022-04-03T12:39:03.952154Z",
     "shell.execute_reply": "2022-04-03T12:39:03.952699Z",
     "shell.execute_reply.started": "2022-04-03T12:16:03.859006Z"
    },
    "papermill": {
     "duration": 0.032822,
     "end_time": "2022-04-03T12:39:03.952912",
     "exception": false,
     "start_time": "2022-04-03T12:39:03.920090",
     "status": "completed"
    },
    "tags": []
   },
   "outputs": [],
   "source": [
    "bag = BaggingClassifier(base_estimator=DecisionTreeClassifier(),\n",
    "                   n_estimators=200,max_samples=0.25,bootstrap=True\n",
    "                   ,verbose=1,random_state = 1)\n"
   ]
  },
  {
   "cell_type": "code",
   "execution_count": 10,
   "id": "45c61c5b",
   "metadata": {
    "execution": {
     "iopub.execute_input": "2022-04-03T12:39:04.003061Z",
     "iopub.status.busy": "2022-04-03T12:39:04.002345Z",
     "iopub.status.idle": "2022-04-03T12:39:04.556239Z",
     "shell.execute_reply": "2022-04-03T12:39:04.556712Z",
     "shell.execute_reply.started": "2022-04-03T12:16:26.906158Z"
    },
    "papermill": {
     "duration": 0.581018,
     "end_time": "2022-04-03T12:39:04.556906",
     "exception": false,
     "start_time": "2022-04-03T12:39:03.975888",
     "status": "completed"
    },
    "tags": []
   },
   "outputs": [
    {
     "name": "stderr",
     "output_type": "stream",
     "text": [
      "[Parallel(n_jobs=1)]: Using backend SequentialBackend with 1 concurrent workers.\n",
      "[Parallel(n_jobs=1)]: Done   1 out of   1 | elapsed:    0.5s finished\n"
     ]
    },
    {
     "data": {
      "text/plain": [
       "BaggingClassifier(base_estimator=DecisionTreeClassifier(), max_samples=0.25,\n",
       "                  n_estimators=200, random_state=1, verbose=1)"
      ]
     },
     "execution_count": 10,
     "metadata": {},
     "output_type": "execute_result"
    }
   ],
   "source": [
    "bag.fit(X_train,y_train)"
   ]
  },
  {
   "cell_type": "code",
   "execution_count": 11,
   "id": "b5aaa446",
   "metadata": {
    "execution": {
     "iopub.execute_input": "2022-04-03T12:39:04.612839Z",
     "iopub.status.busy": "2022-04-03T12:39:04.612141Z",
     "iopub.status.idle": "2022-04-03T12:39:04.640095Z",
     "shell.execute_reply": "2022-04-03T12:39:04.640762Z",
     "shell.execute_reply.started": "2022-04-03T12:17:58.505732Z"
    },
    "papermill": {
     "duration": 0.059366,
     "end_time": "2022-04-03T12:39:04.640980",
     "exception": false,
     "start_time": "2022-04-03T12:39:04.581614",
     "status": "completed"
    },
    "tags": []
   },
   "outputs": [
    {
     "name": "stderr",
     "output_type": "stream",
     "text": [
      "[Parallel(n_jobs=1)]: Using backend SequentialBackend with 1 concurrent workers.\n",
      "[Parallel(n_jobs=1)]: Done   1 out of   1 | elapsed:    0.0s finished\n"
     ]
    },
    {
     "data": {
      "text/plain": [
       "0.956140350877193"
      ]
     },
     "execution_count": 11,
     "metadata": {},
     "output_type": "execute_result"
    }
   ],
   "source": [
    "y_pred = bag.predict(X_test)\n",
    "result = accuracy_score(y_test,y_pred)\n",
    "result"
   ]
  },
  {
   "cell_type": "markdown",
   "id": "114db88e",
   "metadata": {
    "papermill": {
     "duration": 0.024376,
     "end_time": "2022-04-03T12:39:04.690103",
     "exception": false,
     "start_time": "2022-04-03T12:39:04.665727",
     "status": "completed"
    },
    "tags": []
   },
   "source": [
    "**we have an improvement in the accuracy.with bagging out model is providing 95%**"
   ]
  },
  {
   "cell_type": "code",
   "execution_count": 12,
   "id": "d82afb81",
   "metadata": {
    "execution": {
     "iopub.execute_input": "2022-04-03T12:39:04.744342Z",
     "iopub.status.busy": "2022-04-03T12:39:04.743334Z",
     "iopub.status.idle": "2022-04-03T12:39:04.748860Z",
     "shell.execute_reply": "2022-04-03T12:39:04.749495Z",
     "shell.execute_reply.started": "2022-04-03T12:18:47.686534Z"
    },
    "papermill": {
     "duration": 0.034342,
     "end_time": "2022-04-03T12:39:04.749695",
     "exception": false,
     "start_time": "2022-04-03T12:39:04.715353",
     "status": "completed"
    },
    "tags": []
   },
   "outputs": [],
   "source": [
    "bag = BaggingClassifier(base_estimator=DecisionTreeClassifier(),\n",
    "                   n_estimators=200,max_samples=0.25,bootstrap=False\n",
    "                   ,verbose=1,random_state = 1)\n"
   ]
  },
  {
   "cell_type": "code",
   "execution_count": 13,
   "id": "6705fe5b",
   "metadata": {
    "execution": {
     "iopub.execute_input": "2022-04-03T12:39:04.805188Z",
     "iopub.status.busy": "2022-04-03T12:39:04.804492Z",
     "iopub.status.idle": "2022-04-03T12:39:05.403957Z",
     "shell.execute_reply": "2022-04-03T12:39:05.404463Z",
     "shell.execute_reply.started": "2022-04-03T12:18:50.092709Z"
    },
    "papermill": {
     "duration": 0.630024,
     "end_time": "2022-04-03T12:39:05.404656",
     "exception": false,
     "start_time": "2022-04-03T12:39:04.774632",
     "status": "completed"
    },
    "tags": []
   },
   "outputs": [
    {
     "name": "stderr",
     "output_type": "stream",
     "text": [
      "[Parallel(n_jobs=1)]: Using backend SequentialBackend with 1 concurrent workers.\n",
      "[Parallel(n_jobs=1)]: Done   1 out of   1 | elapsed:    0.6s finished\n"
     ]
    },
    {
     "data": {
      "text/plain": [
       "BaggingClassifier(base_estimator=DecisionTreeClassifier(), bootstrap=False,\n",
       "                  max_samples=0.25, n_estimators=200, random_state=1,\n",
       "                  verbose=1)"
      ]
     },
     "execution_count": 13,
     "metadata": {},
     "output_type": "execute_result"
    }
   ],
   "source": [
    "bag.fit(X_train,y_train)"
   ]
  },
  {
   "cell_type": "code",
   "execution_count": 14,
   "id": "c17a30fd",
   "metadata": {
    "execution": {
     "iopub.execute_input": "2022-04-03T12:39:05.465147Z",
     "iopub.status.busy": "2022-04-03T12:39:05.464376Z",
     "iopub.status.idle": "2022-04-03T12:39:05.495514Z",
     "shell.execute_reply": "2022-04-03T12:39:05.496048Z",
     "shell.execute_reply.started": "2022-04-03T12:19:02.924919Z"
    },
    "papermill": {
     "duration": 0.065145,
     "end_time": "2022-04-03T12:39:05.496253",
     "exception": false,
     "start_time": "2022-04-03T12:39:05.431108",
     "status": "completed"
    },
    "tags": []
   },
   "outputs": [
    {
     "name": "stderr",
     "output_type": "stream",
     "text": [
      "[Parallel(n_jobs=1)]: Using backend SequentialBackend with 1 concurrent workers.\n",
      "[Parallel(n_jobs=1)]: Done   1 out of   1 | elapsed:    0.0s finished\n"
     ]
    },
    {
     "data": {
      "text/plain": [
       "0.956140350877193"
      ]
     },
     "execution_count": 14,
     "metadata": {},
     "output_type": "execute_result"
    }
   ],
   "source": [
    "y_pred = bag.predict(X_test)\n",
    "result = accuracy_score(y_test,y_pred)\n",
    "result"
   ]
  },
  {
   "cell_type": "markdown",
   "id": "d2b25a09",
   "metadata": {
    "papermill": {
     "duration": 0.027535,
     "end_time": "2022-04-03T12:39:05.551458",
     "exception": false,
     "start_time": "2022-04-03T12:39:05.523923",
     "status": "completed"
    },
    "tags": []
   },
   "source": [
    "**similarly we have 95% accuracy on pasting.**"
   ]
  },
  {
   "cell_type": "markdown",
   "id": "4a6157cc",
   "metadata": {
    "papermill": {
     "duration": 0.026823,
     "end_time": "2022-04-03T12:39:05.605474",
     "exception": false,
     "start_time": "2022-04-03T12:39:05.578651",
     "status": "completed"
    },
    "tags": []
   },
   "source": [
    "Difference between bagging and pasting is just that we allow the model to reuse the same row (sampling with replacement) for bagging.The only change in the defination of the algoritm is ,for bagging (Bootstrap = True) and for pasting (Bootstrap = False)"
   ]
  },
  {
   "cell_type": "code",
   "execution_count": null,
   "id": "76e7fb12",
   "metadata": {
    "papermill": {
     "duration": 0.026663,
     "end_time": "2022-04-03T12:39:05.659153",
     "exception": false,
     "start_time": "2022-04-03T12:39:05.632490",
     "status": "completed"
    },
    "tags": []
   },
   "outputs": [],
   "source": []
  }
 ],
 "metadata": {
  "kernelspec": {
   "display_name": "Python 3",
   "language": "python",
   "name": "python3"
  },
  "language_info": {
   "codemirror_mode": {
    "name": "ipython",
    "version": 3
   },
   "file_extension": ".py",
   "mimetype": "text/x-python",
   "name": "python",
   "nbconvert_exporter": "python",
   "pygments_lexer": "ipython3",
   "version": "3.7.12"
  },
  "papermill": {
   "default_parameters": {},
   "duration": 15.624593,
   "end_time": "2022-04-03T12:39:06.716342",
   "environment_variables": {},
   "exception": null,
   "input_path": "__notebook__.ipynb",
   "output_path": "__notebook__.ipynb",
   "parameters": {},
   "start_time": "2022-04-03T12:38:51.091749",
   "version": "2.3.3"
  }
 },
 "nbformat": 4,
 "nbformat_minor": 5
}
